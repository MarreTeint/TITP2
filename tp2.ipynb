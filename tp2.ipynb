{
 "cells": [
  {
   "attachments": {},
   "cell_type": "markdown",
   "metadata": {},
   "source": [
    "# Traitement d'image - TP2\n",
    "Martin ZERBIB SEBIROT & Kévin LEBORGNE"
   ]
  },
  {
   "cell_type": "code",
   "execution_count": 3,
   "metadata": {},
   "outputs": [],
   "source": [
    "import cv2\n",
    "import numpy as np\n",
    "import matplotlib.pyplot as plt\n",
    "import time"
   ]
  },
  {
   "attachments": {},
   "cell_type": "markdown",
   "metadata": {},
   "source": [
    "## Exercice 1 — La transformée de Hough pour les cercles\n",
    "On considère une paramétrisation de type (r, c, rad) pour définir un cercle de rayon rad pixels dans l’image,\n",
    "dont le centre est situé sur la ligne r et la colonne c. Comme nous sommes obligés de considérer un ensemble\n",
    "discret de paramètres, on retient toutes les positions r ∈ [rmin, rmax] avec un pas de discrétisation de δr, et\n",
    "ainsi de suite pour c ∈ [cmin, cmax] avec un pas de discrétisation de δc et pour rad ∈ [radmin, radmax] avec\n",
    "un pas de discrétisation de δrad."
   ]
  },
  {
   "attachments": {},
   "cell_type": "markdown",
   "metadata": {},
   "source": [
    "1- Pour l’image four.png fournie, de taille 100 × 100 pixels, considérons que rmin = 1, rmax = 100,\n",
    "δr = 2. Combien de valeurs discrètes aura-t-on pour la coordonnée r des cercles ? Et si δr = 0.5 ?\n"
   ]
  },
  {
   "attachments": {},
   "cell_type": "markdown",
   "metadata": {},
   "source": [
    "*Réponse : Avec une taille de 100x100, rmin = 1, rmax = 100 et δr = 2, il y a 50 valeurs discètes possible sur la coordonée r des cercles. Avec δr = 0.5, cela passe à 199 valeurs possibles*"
   ]
  },
  {
   "attachments": {},
   "cell_type": "markdown",
   "metadata": {},
   "source": [
    "2-  Pour la même images, en supposant que rmin = 1, rmax = 100, δr = 1, cmin = 1, cmax = 100, δc = 1,\n",
    "radmin = 5, radmax = 100√\n",
    "2, δrad = 1, quel est le nombre total de cercles qu’on peut décrire avec\n",
    "ces trois variables ?\n"
   ]
  },
  {
   "attachments": {},
   "cell_type": "markdown",
   "metadata": {},
   "source": [
    "*Réponse : Il y a 100 valeurs possibles en r, 100 en c et 138 selon rad, ce qui nous donne 100x100x138 = 1 380 000 possibilités*"
   ]
  },
  {
   "attachments": {},
   "cell_type": "markdown",
   "metadata": {},
   "source": [
    "3- Le tableau tridimensionnel acc associe à la case acc(i, j, k) le cercle situé à la i-ème valeur discrète\n",
    "de r, la j-ème valeur discrète de c, et la k-ème valeur discrète de rad. Quel est le cercle associé au\n",
    "acc(1, 1, 1) ? Au acc(10, 7, 30) ?\n"
   ]
  },
  {
   "attachments": {},
   "cell_type": "markdown",
   "metadata": {},
   "source": [
    "*Réponse : En supposant que le tableau commence à 1:* \n",
    "- *(1, 1, 5)*\n",
    "- *(10, 7, 35)*"
   ]
  },
  {
   "attachments": {},
   "cell_type": "markdown",
   "metadata": {},
   "source": [
    "4- Inversement, quelle est la case de l’accumulateur associée au cercle centré dans le pixel (40,40) et de\n",
    "rayon rad = 13 ? Attention : les indices i,j,k doivent être entiers.\n"
   ]
  },
  {
   "attachments": {},
   "cell_type": "markdown",
   "metadata": {},
   "source": [
    "*Réponse : (40, 40, 8)*"
   ]
  },
  {
   "attachments": {},
   "cell_type": "markdown",
   "metadata": {},
   "source": [
    "## Exercice 2 — Implementation du détecteur"
   ]
  },
  {
   "attachments": {},
   "cell_type": "markdown",
   "metadata": {},
   "source": [
    "1- On rappelle le fonctionnement de l’algorithme de détection de cercles :\n",
    "1. (optionnel) Filtrage Gaussien (en cas de bruit ou de détails très fins)\n",
    "2. Filtrage de Sobel, calcul de la magnitude de gradient Imag dans chaque pixel\n",
    "3. Tous les pixels dont la magnitude est au dessus d’une fraction t de la valeur maximale dans Imag\n",
    "sont considérés comme des pixels du contour. Note : visualisez l’image des contours pour être sûrs\n",
    "que vous avez dedans les contours des objets recherchés.\n",
    "4. Initialisez toutes les valeurs de l’accumulateur acc à 0.\n",
    "5. Pour chaque pixel de contour, considérez toutes les (r,c) possibles, calculez le rayon rad pour que\n",
    "le cercle situé en (r,c) passe par le pixel respectif, et incrémentez dans l’accumulateur la case qui\n",
    "correspond à (r, c, rad).\n",
    "2- Identifiez dans l’accumulateur les maximas locaux - les cases avec des valeurs supérieures aux 26 cases voisines (car l’accumulateur est tridimensionnel).\n",
    "3-  Selectionnez les N valeurs les plus grandes, et à partir des indices (i,j,k) récupérez les (r,c,rad) correspondants et visualisez les cercles en passant par OpenCV.\n",
    "\n",
    "Note 1 : les cercles plus grands recoivent plus de votes, donc il faudrait normaliser les valeurs de l’accumulateur pour ne pas privil´egier les cercles grands.\n",
    "\n",
    "Note 2 : pour mettre un vote, on peut incrémenter soit par 1, soit par la magnitude du gradient dans le pixel respectif etc.\n",
    "\n",
    "Essayez de trouver une solution qui fonctionne pour des images variées (voir par exemple Figure 1 pour des images avec ou sans bruit)."
   ]
  },
  {
   "cell_type": "code",
   "execution_count": 1,
   "metadata": {},
   "outputs": [],
   "source": [
    "def detectionCercle(img, seuilContours, sensibiliteCercle, color, thickness=1, toGauss=False):\n",
    "    \n",
    "    image = cv2.imread(img, cv2.IMREAD_GRAYSCALE)\n",
    "    if color:\n",
    "        printImage = cv2.imread(img, cv2.COLOR_BGR2RGB)\n",
    "        printColor = cv2.COLOR_BGR2RGB\n",
    "        circleColor = (0, 0, 255)\n",
    "    else:\n",
    "        printImage = image\n",
    "        printColor = cv2.COLOR_GRAY2RGB\n",
    "        circleColor = (155, 0, 255)\n",
    "        \n",
    "    x, y = image.shape\n",
    "\n",
    "    # Add gaussian blur\n",
    "    if toGauss:\n",
    "        gauss = cv2.GaussianBlur(image, (5, 5), 0)\n",
    "    else:\n",
    "        gauss = image\n",
    "\n",
    "    # Sobel filter\n",
    "    sobelx = cv2.Sobel(gauss, cv2.CV_64F, 1, 0, ksize=5)\n",
    "    sobely = cv2.Sobel(gauss, cv2.CV_64F, 0, 1, ksize=5)\n",
    "\n",
    "    # Calculate magnitude\n",
    "    mag, angle = cv2.cartToPolar(sobelx, sobely, angleInDegrees=True)\n",
    "\n",
    "    # Definig contours\n",
    "    contours = np.zeros((x, y))\n",
    "    for i in range(x):\n",
    "        for j in range(y):\n",
    "            if mag[i][j] >= seuilContours:\n",
    "                contours[i][j] = 1\n",
    "    # Accumulator\n",
    "    acc = np.zeros((x, y, int(np.sqrt(x**2 + y**2))))\n",
    "\n",
    "    for i in range(x):\n",
    "        for j in range(y):\n",
    "            if contours[i][j] == 1:\n",
    "                for r in range(x):\n",
    "                    for c in range(y):\n",
    "                        if r != i and c != j:\n",
    "                            d = np.sqrt((r-i)**2 + (c-j)**2)\n",
    "                            acc[r][c][int(d)] += 1/(2*np.pi*int(d))\n",
    "    # Draw circles\n",
    "    for i in range(x):\n",
    "        for j in range(y):\n",
    "            for r in range(int(np.sqrt(x**2 + y**2))):\n",
    "                if acc[i][j][r] >= sensibiliteCercle:\n",
    "                    if r >= 5:\n",
    "                        voisins26 = acc[i-1:i+1, j-1:j+1, r-1:r+1].flatten()\n",
    "                        if acc[i][j][r] == max(voisins26):\n",
    "                            printImage = cv2.circle(printImage, (j, i), r, circleColor, thickness)\n",
    "    plt.axis(\"off\")\n",
    "    plt.imshow(cv2.cvtColor(printImage, printColor))\n",
    "\n",
    "    plt.show()"
   ]
  },
  {
   "cell_type": "code",
   "execution_count": 7,
   "metadata": {},
   "outputs": [
    {
     "data": {
      "image/png": "[encoded data removed]",
      "text/plain": [
       "<Figure size 640x480 with 1 Axes>"
      ]
     },
     "metadata": {},
     "output_type": "display_data"
    }
   ],
   "source": [
    "detectionCercle(\"img/MoonCoin.png\", 3500, 0.75, True)"
   ]
  },
  {
   "cell_type": "code",
   "execution_count": 4,
   "metadata": {},
   "outputs": [
    {
     "data": {
      "image/png": "[encoded data removed]",
      "text/plain": [
       "<Figure size 640x480 with 1 Axes>"
      ]
     },
     "metadata": {},
     "output_type": "display_data"
    }
   ],
   "source": [
    "detectionCercle(\"img/coins.png\", 3000, 0.70, True)"
   ]
  },
  {
   "cell_type": "code",
   "execution_count": 68,
   "metadata": {},
   "outputs": [
    {
     "data": {
      "image/png": "[encoded data removed]",
      "text/plain": [
       "<Figure size 640x480 with 1 Axes>"
      ]
     },
     "metadata": {},
     "output_type": "display_data"
    }
   ],
   "source": [
    "detectionCercle(\"img/four.png\", 3500, 0.75, False)"
   ]
  },
  {
   "cell_type": "code",
   "execution_count": 64,
   "metadata": {},
   "outputs": [
    {
     "data": {
      "image/png": "[encoded data removed]",
      "text/plain": [
       "<Figure size 640x480 with 1 Axes>"
      ]
     },
     "metadata": {},
     "output_type": "display_data"
    }
   ],
   "source": [
    "detectionCercle(\"img/fourn.png\", 3500, 0.72, False, 2)"
   ]
  },
  {
   "attachments": {},
   "cell_type": "markdown",
   "metadata": {},
   "source": [
    "*Pas de difficultées particulières liée à la mise en place de l'algorithme, en dehors de trouver les bon parametres afin de ne pas faire de fausses détections*"
   ]
  },
  {
   "attachments": {},
   "cell_type": "markdown",
   "metadata": {},
   "source": [
    "## Exercice 3 — Temps de calcul\n"
   ]
  },
  {
   "attachments": {},
   "cell_type": "markdown",
   "metadata": {},
   "source": [
    "1- Avec une fonction adaptée (par exemple getTickCount() de OpenCV ou gettimeofday), mesurez le temps de calcul pour four.png. En regardant le code, on peut se rendre compte que la complexité de l’algorithme est de l’ordre de N^4 (pour quoi ?), ou N est la taille en pixels de l’image (100 px). Quel sera le temps de calcul envisagé pour traiter une image avec N proche de 600 px, comme coins2.jpg ?"
   ]
  },
  {
   "cell_type": "code",
   "execution_count": 72,
   "metadata": {},
   "outputs": [
    {
     "data": {
      "image/png": "[encoded data removed]",
      "text/plain": [
       "<Figure size 640x480 with 1 Axes>"
      ]
     },
     "metadata": {},
     "output_type": "display_data"
    },
    {
     "name": "stdout",
     "output_type": "stream",
     "text": [
      "Temps d'exécution : 11.825169563293457 s\n"
     ]
    }
   ],
   "source": [
    "start = time.time()\n",
    "detectionCercle(\"img/four.png\", 3500, 0.75, False)\n",
    "end = time.time()\n",
    "print(f\"Temps d'exécution : {end - start} s\")"
   ]
  },
  {
   "attachments": {},
   "cell_type": "markdown",
   "metadata": {},
   "source": [
    "*On obtient un temps d'exécution de 21.411 secondes. La complexité de l'algorithme est d'ordre O(N^4) car lors de l'initialisation de l'accumulateur, il y a 4 boucles for imbriquées qui vont de 0 à N-1. Pour un traitement d'une image de coté 600px, cela prendrait environ 7,7 heures*\n",
    "\n",
    "*Calcul :*\n",
    "\n",
    "*Sachant que four.png est à N=100*\n",
    "\n",
    "*C * 100^4 = 21.411 secondes*\n",
    "\n",
    "*C = 21.411 / 100^4 = 0.00000021411*\n",
    "\n",
    "*0.00000021411 * 600^4 = 27 748 secondes = 7.7 heures !!!!!*\n"
   ]
  },
  {
   "attachments": {},
   "cell_type": "markdown",
   "metadata": {},
   "source": [
    "2- Pour résoudre ce problème de complexité et arriver à traiter des images de taille importante, vous pouvez choisir une des deux solutions suivantes (bonus si vous implémentez les deux) :\n",
    "1. Calculez à l’aide du filtre de Sobel la direction du gradient, et n’incrémentez dans l’accumulateur les cases que pour les cercles dont le centre se trouve dans la direction du gradient (modulo un petit angle β pour l’incertitude). Dans ce cas, il faudrait essayer d’identifier ces pixels qui se trouvent dans l’image dans la direction du gradient (à l’intérieur d’un cône) de manière très efficace, sans parcourir tous les pixels de l’image."
   ]
  },
  {
   "cell_type": "code",
   "execution_count": null,
   "metadata": {},
   "outputs": [],
   "source": []
  },
  {
   "attachments": {},
   "cell_type": "markdown",
   "metadata": {},
   "source": [
    "2. Utilisez une représentation pyramidale de l’image. En supposant que vous réduisez la taille de votre image par 2, vous pouvez faire une détection pour des cercles de rayon [rad1 rad2] et garder les N meilleurs détections. Après vous revenez à la résolution initiale, mais vous n’effectuez une recherche que pour les rayons en [radmin 2 ∗ rad1] parce que le reste a été déjà analysé à la résolution plus faible. Vous pouvez néanmoins affiner la position des N cercles détectés auparavant. Vous pouvez faire cette opération en cascade, à partir d’une résolution très réduite de l’image initiale (4-8 fois)."
   ]
  },
  {
   "cell_type": "code",
   "execution_count": 65,
   "metadata": {},
   "outputs": [
    {
     "data": {
      "image/png": "[encoded data removed]",
      "text/plain": [
       "<Figure size 640x480 with 1 Axes>"
      ]
     },
     "metadata": {},
     "output_type": "display_data"
    }
   ],
   "source": [
    "#  non implémenté\n",
    "def detectionCerclePyramide(img, seuilContours, sensibiliteCercle, color, thickness=1, toGauss=False, nbPyramide=4):\n",
    "    \n",
    "    image = cv2.imread(img, cv2.IMREAD_GRAYSCALE)\n",
    "    if color:\n",
    "        printImage = cv2.imread(img, cv2.COLOR_BGR2RGB)\n",
    "        printColor = cv2.COLOR_BGR2RGB\n",
    "        circleColor = (0, 0, 255)\n",
    "    else:\n",
    "        printImage = image\n",
    "        printColor = cv2.COLOR_GRAY2RGB\n",
    "        circleColor = (155, 0, 255)\n",
    "    x, y = image.shape\n",
    "        \n",
    "    # Add gaussian blur\n",
    "    if toGauss:\n",
    "        gauss = cv2.GaussianBlur(image, (5, 5), 0)\n",
    "    else:\n",
    "        gauss = image\n",
    "\n",
    "    # Sobel filter\n",
    "    sobelx = cv2.Sobel(gauss, cv2.CV_64F, 1, 0, ksize=5)\n",
    "    sobely = cv2.Sobel(gauss, cv2.CV_64F, 0, 1, ksize=5)\n",
    "\n",
    "    # Calculate magnitude\n",
    "    mag, angle = cv2.cartToPolar(sobelx, sobely, angleInDegrees=True)\n",
    "\n",
    "    # Definig contours\n",
    "    contours = np.zeros((x, y))\n",
    "    for i in range(x):\n",
    "        for j in range(y):\n",
    "            if mag[i][j] >= seuilContours:\n",
    "                contours[i][j] = 1\n",
    "                \n",
    "    # Accumulator\n",
    "    acc = np.zeros((x, y, int(np.sqrt(x**2 + y**2))))\n",
    "\n",
    "    for i in range(x):\n",
    "        for j in range(y):\n",
    "            if contours[i][j] == 1:\n",
    "                for r in range(x):\n",
    "                    for c in range(y):\n",
    "                        if r != i and c != j:\n",
    "                            d = np.sqrt((r-i)**2 + (c-j)**2)\n",
    "                            acc[r][c][int(d)] += 1/(2*np.pi*int(d))\n",
    "    # Draw circles\n",
    "    for i in range(x):\n",
    "        for j in range(y):\n",
    "            for r in range(int(np.sqrt(x**2 + y**2))):\n",
    "                if acc[i][j][r] >= sensibiliteCercle:\n",
    "                    if r >= 5:\n",
    "                        voisins26 = acc[i-1:i+1, j-1:j+1, r-1:r+1].flatten()\n",
    "                        if acc[i][j][r] == max(voisins26):\n",
    "                            printImage = cv2.circle(printImage, (j, i), r, circleColor, thickness)\n",
    "    plt.axis(\"off\")\n",
    "    plt.imshow(cv2.cvtColor(printImage, printColor))\n",
    "\n",
    "    plt.show()\n",
    "    \n",
    "\n",
    "detectionCerclePyramide('img/four.png', 3500, 0.75, False)\n"
   ]
  },
  {
   "attachments": {},
   "cell_type": "markdown",
   "metadata": {},
   "source": []
  }
 ],
 "metadata": {
  "kernelspec": {
   "display_name": "Python 3",
   "language": "python",
   "name": "python3"
  },
  "language_info": {
   "codemirror_mode": {
    "name": "ipython",
    "version": 3
   },
   "file_extension": ".py",
   "mimetype": "text/x-python",
   "name": "python",
   "nbconvert_exporter": "python",
   "pygments_lexer": "ipython3",
   "version": "3.10.5"
  },
  "orig_nbformat": 4
 },
 "nbformat": 4,
 "nbformat_minor": 2
}
